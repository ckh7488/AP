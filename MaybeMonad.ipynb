{
 "cells": [
  {
   "cell_type": "markdown",
   "metadata": {},
   "source": [
    "# python에서 Maybe Monad 사용\n",
    "\n",
    "변수를 `Maybe` 로 감싸서 오류상황을 편하게 확인이 가능하다."
   ]
  },
  {
   "cell_type": "code",
   "execution_count": 20,
   "metadata": {},
   "outputs": [],
   "source": [
    "class Maybe:\n",
    "    def __init__(self, val):\n",
    "        self.val =val\n",
    "    \n",
    "    def bind(self, func):\n",
    "        if self.val == None:\n",
    "            return self\n",
    "        return func(self.val)\n",
    "    \n",
    "    def __repr__(self) -> str:\n",
    "        return f\"Maybe({self.val})\"\n",
    "    \n",
    "    "
   ]
  },
  {
   "cell_type": "code",
   "execution_count": 40,
   "metadata": {},
   "outputs": [],
   "source": [
    "class Divisiable(Maybe):\n",
    "    def div(self, divisor):\n",
    "        def safe_div(x):\n",
    "            if divisor.val == 0:\n",
    "                print(f\"ERROR : Division by zero {self.val} / 0\")\n",
    "                return Divisiable(None)\n",
    "            return Divisiable(x/divisor.val)\n",
    "        return self.bind(safe_div)"
   ]
  },
  {
   "cell_type": "code",
   "execution_count": 41,
   "metadata": {},
   "outputs": [],
   "source": [
    "def divisible(val):\n",
    "    return Divisiable(val)"
   ]
  },
  {
   "cell_type": "code",
   "execution_count": 43,
   "metadata": {},
   "outputs": [],
   "source": [
    "a = divisible(5)\n",
    "b = divisible(3)\n",
    "c = divisible(0)"
   ]
  },
  {
   "cell_type": "code",
   "execution_count": 44,
   "metadata": {},
   "outputs": [
    {
     "name": "stdout",
     "output_type": "stream",
     "text": [
      "ERROR : Division by zero 1.6666666666666667 / 0\n"
     ]
    },
    {
     "data": {
      "text/plain": [
       "Maybe(None)"
      ]
     },
     "execution_count": 44,
     "metadata": {},
     "output_type": "execute_result"
    }
   ],
   "source": [
    "a.div(b).div(c)"
   ]
  }
 ],
 "metadata": {
  "kernelspec": {
   "display_name": "Python 3",
   "language": "python",
   "name": "python3"
  },
  "language_info": {
   "codemirror_mode": {
    "name": "ipython",
    "version": 3
   },
   "file_extension": ".py",
   "mimetype": "text/x-python",
   "name": "python",
   "nbconvert_exporter": "python",
   "pygments_lexer": "ipython3",
   "version": "3.9.1"
  }
 },
 "nbformat": 4,
 "nbformat_minor": 2
}
