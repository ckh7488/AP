{
 "cells": [
  {
   "cell_type": "markdown",
   "metadata": {},
   "source": [
    "# python에서 Maybe Monad 사용\n",
    "\n",
    "변수를 `Maybe` 로 감싸서 오류상황을 편하게 확인이 가능하다.\n",
    "1. Maybe 원형 함수를 작성.\n",
    "2. Maybe 를 상속받아 오류상황에 맞는 처리를 작성\n",
    "3. 상속받은 클래스로 변수를 만들고 실제 계산에 사용\n",
    "\n",
    "( `Maybe` Monad는 `JS`에서는 대표적으로 Promise의 형태로 사용된다. )"
   ]
  },
  {
   "cell_type": "code",
   "execution_count": 1,
   "metadata": {},
   "outputs": [],
   "source": [
    "class Maybe:\n",
    "    def __init__(self, val):\n",
    "        self.val =val\n",
    "    \n",
    "    def bind(self, func):\n",
    "        if self.val == None:\n",
    "            return self\n",
    "        return func(self.val)\n",
    "    \n",
    "    def __repr__(self) -> str:\n",
    "        return f\"Maybe({self.val})\"\n",
    "    \n",
    "    "
   ]
  },
  {
   "cell_type": "code",
   "execution_count": 23,
   "metadata": {},
   "outputs": [],
   "source": [
    "class Divisiable(Maybe):\n",
    "    def div(self, divisor):\n",
    "        def safe_div(x):\n",
    "            if divisor.val == 0:\n",
    "                print(f\"ERROR : Division by zero {self.val} / 0\")\n",
    "                return Divisiable(None)\n",
    "            return Divisiable(x/divisor.val)\n",
    "        return self.bind(safe_div)\n",
    "    \n",
    "    def isNum(self):\n",
    "        return self.val != None"
   ]
  },
  {
   "cell_type": "code",
   "execution_count": 3,
   "metadata": {},
   "outputs": [],
   "source": [
    "def divisible(val):\n",
    "    return Divisiable(val)"
   ]
  },
  {
   "cell_type": "markdown",
   "metadata": {},
   "source": [
    "## 사용 예"
   ]
  },
  {
   "cell_type": "code",
   "execution_count": 24,
   "metadata": {},
   "outputs": [],
   "source": [
    "a = divisible(5)\n",
    "b = divisible(3)\n",
    "c = divisible(0)\n",
    "d = divisible(11)"
   ]
  },
  {
   "cell_type": "code",
   "execution_count": 5,
   "metadata": {},
   "outputs": [
    {
     "name": "stdout",
     "output_type": "stream",
     "text": [
      "ERROR : Division by zero 1.6666666666666667 / 0\n"
     ]
    },
    {
     "data": {
      "text/plain": [
       "Maybe(None)"
      ]
     },
     "execution_count": 5,
     "metadata": {},
     "output_type": "execute_result"
    }
   ],
   "source": [
    "a.div(b).div(c)"
   ]
  },
  {
   "cell_type": "code",
   "execution_count": 7,
   "metadata": {},
   "outputs": [
    {
     "data": {
      "text/plain": [
       "Maybe(1.65)"
      ]
     },
     "execution_count": 7,
     "metadata": {},
     "output_type": "execute_result"
    }
   ],
   "source": [
    "d.div(a.div(b)).div(divisible(4))"
   ]
  },
  {
   "cell_type": "code",
   "execution_count": 31,
   "metadata": {},
   "outputs": [
    {
     "name": "stdout",
     "output_type": "stream",
     "text": [
      "ERROR : Division by zero 1.6666666666666667 / 0\n",
      "a/b/c is not divisible\n",
      "a/b/a/a is divisible\n",
      "0.06666666666666668\n",
      "0.06666666666666668\n"
     ]
    }
   ],
   "source": [
    "if not a.div(b).div(c).isNum():\n",
    "    print(\"a/b/c is not divisible\")\n",
    "\n",
    "if a.div(b).div(a).div(a).isNum():\n",
    "    print(\"a/b/a/a is divisible\")\n",
    "    print(5/3/5/5)\n",
    "    print(a.div(b).div(a).div(a).val)"
   ]
  },
  {
   "cell_type": "code",
   "execution_count": 26,
   "metadata": {},
   "outputs": [
    {
     "data": {
      "text/plain": [
       "True"
      ]
     },
     "execution_count": 26,
     "metadata": {},
     "output_type": "execute_result"
    }
   ],
   "source": [
    "a.div(b).isNum()"
   ]
  }
 ],
 "metadata": {
  "kernelspec": {
   "display_name": "Python 3",
   "language": "python",
   "name": "python3"
  },
  "language_info": {
   "codemirror_mode": {
    "name": "ipython",
    "version": 3
   },
   "file_extension": ".py",
   "mimetype": "text/x-python",
   "name": "python",
   "nbconvert_exporter": "python",
   "pygments_lexer": "ipython3",
   "version": "3.9.1"
  }
 },
 "nbformat": 4,
 "nbformat_minor": 2
}
