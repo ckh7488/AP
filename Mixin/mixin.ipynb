{
 "cells": [
  {
   "cell_type": "code",
   "execution_count": 14,
   "metadata": {},
   "outputs": [],
   "source": [
    "class Charactor:\n",
    "    def __init__(self, name):\n",
    "        self.name = name\n",
    "        self.skills = []    \n",
    "        self.health = 100\n",
    "    \n",
    "    def list_skills(self):\n",
    "        print(self.skills)\n",
    "    \n",
    "    "
   ]
  },
  {
   "cell_type": "code",
   "execution_count": 15,
   "metadata": {},
   "outputs": [],
   "source": [
    "# In Python, you can access properties in a Mixin that are not defined within the Mixin itself. \n",
    "# This should be done with care, as it can lead to errors\n",
    "\n",
    "class ChatAbilityMixin:\n",
    "    def use_chat(self, message):\n",
    "        print(f\"{self.name} says {message}\")   "
   ]
  },
  {
   "cell_type": "code",
   "execution_count": 18,
   "metadata": {},
   "outputs": [],
   "source": [
    "class User(Charactor, ChatAbilityMixin):\n",
    "    def __init__(self, id, name):\n",
    "        super().__init__(name)\n",
    "        self.id = id"
   ]
  },
  {
   "cell_type": "code",
   "execution_count": 20,
   "metadata": {},
   "outputs": [],
   "source": [
    "user_a = User(\"id\", \"name\")"
   ]
  },
  {
   "cell_type": "code",
   "execution_count": 32,
   "metadata": {},
   "outputs": [
    {
     "name": "stdout",
     "output_type": "stream",
     "text": [
      "id 100 name\n",
      "name says hi\n"
     ]
    }
   ],
   "source": [
    "print(\n",
    "    user_a.id,\n",
    "    user_a.health,\n",
    "    user_a.name,\n",
    ")\n",
    "user_a.use_chat(\"hi\")"
   ]
  }
 ],
 "metadata": {
  "kernelspec": {
   "display_name": "Python 3",
   "language": "python",
   "name": "python3"
  },
  "language_info": {
   "codemirror_mode": {
    "name": "ipython",
    "version": 3
   },
   "file_extension": ".py",
   "mimetype": "text/x-python",
   "name": "python",
   "nbconvert_exporter": "python",
   "pygments_lexer": "ipython3",
   "version": "3.9.1"
  }
 },
 "nbformat": 4,
 "nbformat_minor": 2
}
